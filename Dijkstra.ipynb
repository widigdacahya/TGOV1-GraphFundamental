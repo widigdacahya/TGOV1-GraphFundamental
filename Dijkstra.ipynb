{
  "nbformat": 4,
  "nbformat_minor": 0,
  "metadata": {
    "colab": {
      "name": "Dijkstra.ipynb",
      "provenance": [],
      "collapsed_sections": []
    },
    "kernelspec": {
      "name": "python3",
      "display_name": "Python 3"
    },
    "language_info": {
      "name": "python"
    }
  },
  "cells": [
    {
      "cell_type": "code",
      "execution_count": null,
      "metadata": {
        "id": "yWHPF3NI9H54"
      },
      "outputs": [],
      "source": [
        "from collections import defaultdict"
      ]
    },
    {
      "cell_type": "code",
      "source": [
        "#function to find min dist\n",
        "def minDistance(dist, queue):\n",
        "      minimum = float(\"Inf\")\n",
        "      min_index = -1\n",
        "\n",
        "      for i in range(len(dist)):\n",
        "           if dist[i] < minimum and i in queue:\n",
        "              minimum = dist[i]\n",
        "              min_index = i\n",
        "      \n",
        "      return min_index"
      ],
      "metadata": {
        "id": "dCoyMoxz9VDY"
      },
      "execution_count": null,
      "outputs": []
    },
    {
      "cell_type": "code",
      "source": [
        "#print shortes path from source j using parrent array\n",
        "def printPathUs(parent,j):\n",
        "    if parent[j] == -1:\n",
        "        print(j+1,end=\" \")\n",
        "        return\n",
        "    printPathUs(parent,parent[j])\n",
        "    print(j+1,end=\" \")"
      ],
      "metadata": {
        "id": "GZ0bqmJu9XYL"
      },
      "execution_count": null,
      "outputs": []
    },
    {
      "cell_type": "code",
      "source": [
        "#funtion print constructod distance\n",
        "def printSolutionGraphUs(dist,parent):\n",
        "    src = 0\n",
        "    print(\"Vertex \\t\\tDistance from Source\\tPath\")\n",
        "    for i in range(1,len(dist)):\n",
        "        print(\"\\n%d --> %d \\t\\t%d \\t\\t\" %(src+1,i+1,dist[i]), end= \" \")\n",
        "        printPathUs(parent,i)"
      ],
      "metadata": {
        "id": "d0t3M1Lk9gq5"
      },
      "execution_count": null,
      "outputs": []
    },
    {
      "cell_type": "code",
      "source": [
        "# Djikstra single shortest path with graph that repreesnted in adjacency matrix\n",
        "def dijkstraUs(graphInAdjMtrx,src):\n",
        "    row = len(graphInAdjMtrx)\n",
        "    col = len(graphInAdjMtrx[0])\n",
        "\n",
        "    # Intialized as infinet, later hold shortest distance\n",
        "    dist = [float(\"Inf\")]*row\n",
        "\n",
        "    # paremt array store shortest path tree\n",
        "    parent = [-1]*row\n",
        "\n",
        "    #distance of statrin node/source vertex\n",
        "    #startin node = 0\n",
        "    dist[src] = 0\n",
        "\n",
        "    #put all node to queue\n",
        "    queue = []\n",
        "    for i in range(row):\n",
        "        queue.append(i)\n",
        "\n",
        "    # shortest path finding for all nodes\n",
        "    while queue:\n",
        "\n",
        "        #pick minimum dist form nodes in queue\n",
        "        u = minDistance(dist,queue)\n",
        "\n",
        "        #remove min element\n",
        "        queue.remove(u)\n",
        "\n",
        "        #update dist value and parent\n",
        "        for i in range(col):\n",
        "            if graphInAdjMtrx[u][i] and i in queue:\n",
        "                if dist[u] + graphInAdjMtrx[u][i] < dist[i]:\n",
        "                    dist[i] = dist[u] + graphInAdjMtrx[u][i]\n",
        "                    parent[i] = u\n",
        "\n",
        "    # print constructed distance\n",
        "    printSolutionGraphUs(dist,parent)"
      ],
      "metadata": {
        "id": "8JsGZABN9h-m"
      },
      "execution_count": null,
      "outputs": []
    },
    {
      "cell_type": "code",
      "source": [
        "ourGraph = [[0,2,8,1,0,0,0,0,0,0,0],\n",
        "            [2,0,6,0,1,0,0,0,0,0,0],\n",
        "            [8,6,0,7,5,1,2,0,0,0,0],\n",
        "            [1,0,7,0,0,0,9,0,0,0,0],\n",
        "            [0,1,5,0,0,3,0,2,9,0,0],\n",
        "            [0,0,1,0,3,0,4,0,6,0,0],\n",
        "            [0,0,2,9,0,4,0,0,3,1,0],\n",
        "            [0,0,0,0,2,0,0,0,7,0,9],\n",
        "            [0,0,0,0,9,6,3,7,0,1,2],\n",
        "            [0,0,0,0,0,0,1,0,1,0,4],\n",
        "            [0,0,0,0,0,0,0,9,2,4,0]\n",
        "          ]"
      ],
      "metadata": {
        "id": "MKKL5Zzf9nAl"
      },
      "execution_count": null,
      "outputs": []
    },
    {
      "cell_type": "code",
      "source": [
        "dijkstraUs(ourGraph,0)"
      ],
      "metadata": {
        "id": "3ejjcUUO9pUr",
        "outputId": "eedcec84-85d3-4a44-acbd-b2273864e29e",
        "colab": {
          "base_uri": "https://localhost:8080/"
        }
      },
      "execution_count": null,
      "outputs": [
        {
          "output_type": "stream",
          "name": "stdout",
          "text": [
            "Vertex \t\tDistance from Source\tPath\n",
            "\n",
            "1 --> 2 \t\t2 \t\t 1 2 \n",
            "1 --> 3 \t\t7 \t\t 1 2 5 6 3 \n",
            "1 --> 4 \t\t1 \t\t 1 4 \n",
            "1 --> 5 \t\t3 \t\t 1 2 5 \n",
            "1 --> 6 \t\t6 \t\t 1 2 5 6 \n",
            "1 --> 7 \t\t9 \t\t 1 2 5 6 3 7 \n",
            "1 --> 8 \t\t5 \t\t 1 2 5 8 \n",
            "1 --> 9 \t\t11 \t\t 1 2 5 6 3 7 10 9 \n",
            "1 --> 10 \t\t10 \t\t 1 2 5 6 3 7 10 \n",
            "1 --> 11 \t\t13 \t\t 1 2 5 6 3 7 10 9 11 "
          ]
        }
      ]
    },
    {
      "cell_type": "markdown",
      "source": [
        "--------------------------------------------------------------\n",
        "Reference:\n",
        "*   https://www.geeksforgeeks.org/printing-paths-dijkstras-shortest-path-algorithm/\n",
        "*   https://www.youtube.com/watch?v=VnTlW572Sc4\n",
        "\n",
        "\n",
        "\n"
      ],
      "metadata": {
        "id": "qznIYdQj-pgg"
      }
    }
  ]
}